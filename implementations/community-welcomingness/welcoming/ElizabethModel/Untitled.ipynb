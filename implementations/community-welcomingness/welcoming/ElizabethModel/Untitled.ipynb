{
 "cells": [
  {
   "cell_type": "markdown",
   "id": "86dc9cf0",
   "metadata": {},
   "source": [
    "# To Do: \n",
    "1. Licensing\n",
    "2. Licenses declared\n",
    "3. Bus Factor\n",
    "4. Lines of Code by Author over time"
   ]
  },
  {
   "cell_type": "code",
   "execution_count": null,
   "id": "2d83b7c3",
   "metadata": {},
   "outputs": [],
   "source": []
  }
 ],
 "metadata": {
  "kernelspec": {
   "display_name": "Python 3",
   "language": "python",
   "name": "python3"
  },
  "language_info": {
   "codemirror_mode": {
    "name": "ipython",
    "version": 3
   },
   "file_extension": ".py",
   "mimetype": "text/x-python",
   "name": "python",
   "nbconvert_exporter": "python",
   "pygments_lexer": "ipython3",
   "version": "3.9.10"
  }
 },
 "nbformat": 4,
 "nbformat_minor": 5
}
